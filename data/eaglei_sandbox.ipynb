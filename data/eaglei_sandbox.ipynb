{
 "cells": [
  {
   "cell_type": "markdown",
   "id": "e6a8b210",
   "metadata": {},
   "source": [
    "# Cleaning notebook for EAGLE-I dataset"
   ]
  },
  {
   "cell_type": "markdown",
   "id": "5c4daea6",
   "metadata": {},
   "source": [
    "Original dataset can be found at https://www.osti.gov/dataexplorer/biblio/dataset/1975202.\n",
    "It has data for 2014-2022, separated by year (one csv file per year. Most of these are ~1GB in size.) "
   ]
  },
  {
   "cell_type": "markdown",
   "id": "8f448266",
   "metadata": {},
   "source": [
    "## Dropping redundant fields"
   ]
  },
  {
   "cell_type": "code",
   "execution_count": 1,
   "id": "2ab02056",
   "metadata": {},
   "outputs": [],
   "source": [
    "import pandas as pd\n",
    "import numpy as np\n",
    "import matplotlib.pyplot as plt\n",
    "import seaborn as sns"
   ]
  },
  {
   "cell_type": "code",
   "execution_count": 20,
   "id": "59872182",
   "metadata": {},
   "outputs": [],
   "source": [
    "df = pd.read_csv(\"eaglei_outages/eaglei_outages_2014.csv\",parse_dates=[\"run_start_time\"])"
   ]
  },
  {
   "cell_type": "code",
   "execution_count": 21,
   "id": "203e045b",
   "metadata": {},
   "outputs": [
    {
     "data": {
      "text/html": [
       "<div>\n",
       "<style scoped>\n",
       "    .dataframe tbody tr th:only-of-type {\n",
       "        vertical-align: middle;\n",
       "    }\n",
       "\n",
       "    .dataframe tbody tr th {\n",
       "        vertical-align: top;\n",
       "    }\n",
       "\n",
       "    .dataframe thead th {\n",
       "        text-align: right;\n",
       "    }\n",
       "</style>\n",
       "<table border=\"1\" class=\"dataframe\">\n",
       "  <thead>\n",
       "    <tr style=\"text-align: right;\">\n",
       "      <th></th>\n",
       "      <th>fips_code</th>\n",
       "      <th>county</th>\n",
       "      <th>state</th>\n",
       "      <th>sum</th>\n",
       "      <th>run_start_time</th>\n",
       "    </tr>\n",
       "  </thead>\n",
       "  <tbody>\n",
       "    <tr>\n",
       "      <th>0</th>\n",
       "      <td>1037</td>\n",
       "      <td>Coosa</td>\n",
       "      <td>Alabama</td>\n",
       "      <td>12</td>\n",
       "      <td>2014-11-01 04:00:00</td>\n",
       "    </tr>\n",
       "    <tr>\n",
       "      <th>1</th>\n",
       "      <td>1051</td>\n",
       "      <td>Elmore</td>\n",
       "      <td>Alabama</td>\n",
       "      <td>7</td>\n",
       "      <td>2014-11-01 04:00:00</td>\n",
       "    </tr>\n",
       "    <tr>\n",
       "      <th>2</th>\n",
       "      <td>1109</td>\n",
       "      <td>Pike</td>\n",
       "      <td>Alabama</td>\n",
       "      <td>1</td>\n",
       "      <td>2014-11-01 04:00:00</td>\n",
       "    </tr>\n",
       "    <tr>\n",
       "      <th>3</th>\n",
       "      <td>1121</td>\n",
       "      <td>Talladega</td>\n",
       "      <td>Alabama</td>\n",
       "      <td>31</td>\n",
       "      <td>2014-11-01 04:00:00</td>\n",
       "    </tr>\n",
       "    <tr>\n",
       "      <th>4</th>\n",
       "      <td>4017</td>\n",
       "      <td>Navajo</td>\n",
       "      <td>Arizona</td>\n",
       "      <td>1</td>\n",
       "      <td>2014-11-01 04:00:00</td>\n",
       "    </tr>\n",
       "  </tbody>\n",
       "</table>\n",
       "</div>"
      ],
      "text/plain": [
       "   fips_code     county    state  sum      run_start_time\n",
       "0       1037      Coosa  Alabama   12 2014-11-01 04:00:00\n",
       "1       1051     Elmore  Alabama    7 2014-11-01 04:00:00\n",
       "2       1109       Pike  Alabama    1 2014-11-01 04:00:00\n",
       "3       1121  Talladega  Alabama   31 2014-11-01 04:00:00\n",
       "4       4017     Navajo  Arizona    1 2014-11-01 04:00:00"
      ]
     },
     "execution_count": 21,
     "metadata": {},
     "output_type": "execute_result"
    }
   ],
   "source": [
    "df.head()"
   ]
  },
  {
   "cell_type": "code",
   "execution_count": 6,
   "id": "4786af3c",
   "metadata": {},
   "outputs": [
    {
     "data": {
      "text/plain": [
       "count     19401\n",
       "unique        1\n",
       "top        Leon\n",
       "freq      19401\n",
       "Name: county, dtype: object"
      ]
     },
     "execution_count": 6,
     "metadata": {},
     "output_type": "execute_result"
    }
   ],
   "source": [
    "df.loc[df.fips_code==12073].county.describe()"
   ]
  },
  {
   "cell_type": "markdown",
   "id": "35e5d673",
   "metadata": {},
   "source": [
    "FIPS codes correspond to counties (see https://transition.fcc.gov/oet/info/maps/census/fips/fips.txt), so we may as well keep only the FIPS code so the data is more compact (saves about 1.2GB), and maintain separate look-up dictionaries for county / state by FIPS code. Note the state FIPS code is the first two digits of the county FIPS code."
   ]
  },
  {
   "cell_type": "code",
   "execution_count": 22,
   "id": "3f4da7eb",
   "metadata": {},
   "outputs": [],
   "source": [
    "fips_county = {}\n",
    "for fips in df.groupby(\"fips_code\"): \n",
    "    fips_county[fips[0]] = fips[1].iloc[0].county"
   ]
  },
  {
   "cell_type": "code",
   "execution_count": 5,
   "id": "bd314df4",
   "metadata": {},
   "outputs": [],
   "source": [
    "state_fips = {}\n",
    "for state in df.groupby(\"state\"):\n",
    "    state_fips[state[0]] = int((state[1].iloc[0].fips_code)/1000)"
   ]
  },
  {
   "cell_type": "code",
   "execution_count": 23,
   "id": "96e7ae9c",
   "metadata": {},
   "outputs": [],
   "source": [
    "df.drop([\"county\",\"state\"],axis=1,inplace=True)\n",
    "#df[\"state\"]=(df[\"fips_code\"]/1000).apply(int)"
   ]
  },
  {
   "cell_type": "code",
   "execution_count": 24,
   "id": "938969f0",
   "metadata": {},
   "outputs": [
    {
     "data": {
      "text/html": [
       "<div>\n",
       "<style scoped>\n",
       "    .dataframe tbody tr th:only-of-type {\n",
       "        vertical-align: middle;\n",
       "    }\n",
       "\n",
       "    .dataframe tbody tr th {\n",
       "        vertical-align: top;\n",
       "    }\n",
       "\n",
       "    .dataframe thead th {\n",
       "        text-align: right;\n",
       "    }\n",
       "</style>\n",
       "<table border=\"1\" class=\"dataframe\">\n",
       "  <thead>\n",
       "    <tr style=\"text-align: right;\">\n",
       "      <th></th>\n",
       "      <th>fips_code</th>\n",
       "      <th>sum</th>\n",
       "      <th>run_start_time</th>\n",
       "    </tr>\n",
       "  </thead>\n",
       "  <tbody>\n",
       "    <tr>\n",
       "      <th>0</th>\n",
       "      <td>1037</td>\n",
       "      <td>12</td>\n",
       "      <td>2014-11-01 04:00:00</td>\n",
       "    </tr>\n",
       "    <tr>\n",
       "      <th>1</th>\n",
       "      <td>1051</td>\n",
       "      <td>7</td>\n",
       "      <td>2014-11-01 04:00:00</td>\n",
       "    </tr>\n",
       "    <tr>\n",
       "      <th>2</th>\n",
       "      <td>1109</td>\n",
       "      <td>1</td>\n",
       "      <td>2014-11-01 04:00:00</td>\n",
       "    </tr>\n",
       "    <tr>\n",
       "      <th>3</th>\n",
       "      <td>1121</td>\n",
       "      <td>31</td>\n",
       "      <td>2014-11-01 04:00:00</td>\n",
       "    </tr>\n",
       "    <tr>\n",
       "      <th>4</th>\n",
       "      <td>4017</td>\n",
       "      <td>1</td>\n",
       "      <td>2014-11-01 04:00:00</td>\n",
       "    </tr>\n",
       "  </tbody>\n",
       "</table>\n",
       "</div>"
      ],
      "text/plain": [
       "   fips_code  sum      run_start_time\n",
       "0       1037   12 2014-11-01 04:00:00\n",
       "1       1051    7 2014-11-01 04:00:00\n",
       "2       1109    1 2014-11-01 04:00:00\n",
       "3       1121   31 2014-11-01 04:00:00\n",
       "4       4017    1 2014-11-01 04:00:00"
      ]
     },
     "execution_count": 24,
     "metadata": {},
     "output_type": "execute_result"
    }
   ],
   "source": [
    "df.head()"
   ]
  },
  {
   "cell_type": "markdown",
   "id": "f8bb54fa",
   "metadata": {},
   "source": [
    "This was then saved using `df.to_csv(\"eaglei_outages_YYYY_cpt.csv\")`"
   ]
  },
  {
   "cell_type": "code",
   "execution_count": 25,
   "id": "e7fd5fa5",
   "metadata": {},
   "outputs": [],
   "source": [
    "df.to_csv(\"eaglei_outages_2014_cpt.csv\",index=False)"
   ]
  },
  {
   "cell_type": "markdown",
   "id": "3d9877e1",
   "metadata": {},
   "source": [
    "We also save the FIPS lookup tables"
   ]
  },
  {
   "cell_type": "code",
   "execution_count": 26,
   "id": "aae88c78",
   "metadata": {},
   "outputs": [],
   "source": [
    "pd.DataFrame({\"FIPS\":fips_county.keys(),\"county\":fips_county.values()}).to_csv(\"fips_county_2014.csv\",index=False)"
   ]
  },
  {
   "cell_type": "code",
   "execution_count": null,
   "id": "4cbbbc5a",
   "metadata": {},
   "outputs": [],
   "source": [
    "# the state_fips table only needs to be saved once --- all of the states show up in the 2022 data."
   ]
  },
  {
   "cell_type": "markdown",
   "id": "64854a85",
   "metadata": {},
   "source": [
    "We then merge the FIPS lookup tables to remove redundancy"
   ]
  },
  {
   "cell_type": "code",
   "execution_count": 145,
   "id": "c586cf93",
   "metadata": {},
   "outputs": [],
   "source": [
    "df = pd.read_csv(\"fips_county_2014.csv\", index_col=None, header=0)\n",
    "\n",
    "for yr in range(2015,2023):\n",
    "    df2 =  pd.read_csv(\"fips_county_\"+str(yr)+\".csv\", index_col=None, header=0)\n",
    "    df3=df.merge(df2, on=\"FIPS\", how=\"outer\")\n",
    "    df=pd.concat([df3.loc[df3.isna().county_x].drop([\"county_x\"],axis=1).rename({\"county_y\":\"county\"},axis=1),\n",
    "               df3.loc[~(df3.isna().county_x)].drop([\"county_y\"],axis=1).rename({\"county_x\":\"county\"},axis=1)])\n",
    "    #li.append(df)\n",
    "\n",
    "#frame = pd.concat(li, axis=0, ignore_index=True)"
   ]
  },
  {
   "cell_type": "code",
   "execution_count": 146,
   "id": "a54f42d0",
   "metadata": {},
   "outputs": [
    {
     "name": "stdout",
     "output_type": "stream",
     "text": [
      "<class 'pandas.core.frame.DataFrame'>\n",
      "Index: 3087 entries, 0 to 3086\n",
      "Data columns (total 2 columns):\n",
      " #   Column  Non-Null Count  Dtype \n",
      "---  ------  --------------  ----- \n",
      " 0   FIPS    3087 non-null   int64 \n",
      " 1   county  3087 non-null   object\n",
      "dtypes: int64(1), object(1)\n",
      "memory usage: 72.4+ KB\n"
     ]
    }
   ],
   "source": [
    "df.info()"
   ]
  },
  {
   "cell_type": "code",
   "execution_count": 147,
   "id": "e17c270e",
   "metadata": {},
   "outputs": [],
   "source": [
    "df.to_csv(\"fips_county.csv\",index=False)"
   ]
  },
  {
   "cell_type": "markdown",
   "id": "1ab0fa8c",
   "metadata": {},
   "source": [
    "## Generating tables of outage events"
   ]
  },
  {
   "cell_type": "markdown",
   "id": "233c5903",
   "metadata": {},
   "source": [
    "We next create a table where each row corresponds to a power outage event in a county. We group together rows with consecutive timestamps and the same fips_code. \n",
    "\n",
    "For # affected customers we use the number indicated at the start of the event. (We could maybe use the maximum number seen across the time period? This would take a little bit more work.)\n",
    "We also estimate the duration as 15 min * (# consecutive rows grouped + 1); this is recorded in minutes."
   ]
  },
  {
   "cell_type": "code",
   "execution_count": 2,
   "id": "a96e8a5a",
   "metadata": {},
   "outputs": [],
   "source": [
    "import datetime"
   ]
  },
  {
   "cell_type": "code",
   "execution_count": 23,
   "id": "d25dc39c",
   "metadata": {},
   "outputs": [],
   "source": [
    "df = pd.read_csv(\"eaglei_outages/eaglei_outages_2014_cpt.csv\", parse_dates=[\"run_start_time\"])"
   ]
  },
  {
   "cell_type": "markdown",
   "id": "989e889f",
   "metadata": {},
   "source": [
    "Next three fields try out the code for a single county before running it on all counties"
   ]
  },
  {
   "cell_type": "code",
   "execution_count": 48,
   "id": "324375b3",
   "metadata": {},
   "outputs": [],
   "source": [
    "code = 12073 # Leon County, FL\n",
    "#code = 55025 # Dane County, WI \n",
    "df_county = df.loc[df.fips_code==code]\n",
    "outages_county = pd.DataFrame({\"fips_code\":[], 'affected':[], 'start':[], 'end':[], 'duration':[]})"
   ]
  },
  {
   "cell_type": "code",
   "execution_count": 49,
   "id": "41e886cc",
   "metadata": {
    "scrolled": true
   },
   "outputs": [],
   "source": [
    "fifteen = datetime.timedelta(minutes=15)\n",
    "timediff = df_county.run_start_time.shift(-1) \n",
    "continues = (timediff - df_county.run_start_time) == fifteen\n",
    "isEnd = ~continues \n",
    "isStart = isEnd.shift(1, fill_value=True)\n",
    "outage_county = df_county[isStart].rename({\"sum\":\"affected\", \"run_start_time\":\"start\"},axis=1).reset_index()\n",
    "outage_county[\"end\"] = df_county[isEnd].reset_index().run_start_time\n",
    "outage_county[\"duration\"] = (outage_county[\"end\"] - outage_county[\"start\"]).apply(lambda x: x.total_seconds()/60+15).apply(int)\n",
    "#isEnd.loc[isEnd].keys()[:5], isStart.loc[isStart].keys()[:5]"
   ]
  },
  {
   "cell_type": "code",
   "execution_count": 104,
   "id": "cb231b42",
   "metadata": {
    "scrolled": true
   },
   "outputs": [
    {
     "name": "stdout",
     "output_type": "stream",
     "text": [
      "<class 'pandas.core.frame.DataFrame'>\n",
      "Index: 2279 entries, 0 to 1617\n",
      "Data columns (total 6 columns):\n",
      " #   Column     Non-Null Count  Dtype          \n",
      "---  ------     --------------  -----          \n",
      " 0   index      2279 non-null   int64          \n",
      " 1   fips_code  2279 non-null   int64          \n",
      " 2   affected   2096 non-null   float64        \n",
      " 3   start      2279 non-null   datetime64[ns] \n",
      " 4   end        2279 non-null   datetime64[ns] \n",
      " 5   duration   2279 non-null   timedelta64[ns]\n",
      "dtypes: datetime64[ns](2), float64(1), int64(2), timedelta64[ns](1)\n",
      "memory usage: 124.6 KB\n"
     ]
    }
   ],
   "source": [
    "pd.concat([outage_county,oc2]).info()\n",
    "len(oc2), len(outage_county)"
   ]
  },
  {
   "cell_type": "code",
   "execution_count": 50,
   "id": "b610dd48",
   "metadata": {
    "scrolled": true
   },
   "outputs": [
    {
     "data": {
      "text/html": [
       "<div>\n",
       "<style scoped>\n",
       "    .dataframe tbody tr th:only-of-type {\n",
       "        vertical-align: middle;\n",
       "    }\n",
       "\n",
       "    .dataframe tbody tr th {\n",
       "        vertical-align: top;\n",
       "    }\n",
       "\n",
       "    .dataframe thead th {\n",
       "        text-align: right;\n",
       "    }\n",
       "</style>\n",
       "<table border=\"1\" class=\"dataframe\">\n",
       "  <thead>\n",
       "    <tr style=\"text-align: right;\">\n",
       "      <th></th>\n",
       "      <th>index</th>\n",
       "      <th>fips_code</th>\n",
       "      <th>affected</th>\n",
       "      <th>start</th>\n",
       "      <th>end</th>\n",
       "      <th>duration</th>\n",
       "    </tr>\n",
       "  </thead>\n",
       "  <tbody>\n",
       "    <tr>\n",
       "      <th>0</th>\n",
       "      <td>3237</td>\n",
       "      <td>12073</td>\n",
       "      <td>1.0</td>\n",
       "      <td>2022-01-01 01:30:00</td>\n",
       "      <td>2022-01-01 01:30:00</td>\n",
       "      <td>15</td>\n",
       "    </tr>\n",
       "    <tr>\n",
       "      <th>1</th>\n",
       "      <td>6146</td>\n",
       "      <td>12073</td>\n",
       "      <td>1.0</td>\n",
       "      <td>2022-01-01 03:00:00</td>\n",
       "      <td>2022-01-01 03:00:00</td>\n",
       "      <td>15</td>\n",
       "    </tr>\n",
       "    <tr>\n",
       "      <th>2</th>\n",
       "      <td>11373</td>\n",
       "      <td>12073</td>\n",
       "      <td>1.0</td>\n",
       "      <td>2022-01-01 05:45:00</td>\n",
       "      <td>2022-01-01 07:45:00</td>\n",
       "      <td>135</td>\n",
       "    </tr>\n",
       "    <tr>\n",
       "      <th>3</th>\n",
       "      <td>25868</td>\n",
       "      <td>12073</td>\n",
       "      <td>1.0</td>\n",
       "      <td>2022-01-01 12:30:00</td>\n",
       "      <td>2022-01-01 14:15:00</td>\n",
       "      <td>120</td>\n",
       "    </tr>\n",
       "    <tr>\n",
       "      <th>4</th>\n",
       "      <td>31797</td>\n",
       "      <td>12073</td>\n",
       "      <td>7.0</td>\n",
       "      <td>2022-01-01 14:45:00</td>\n",
       "      <td>2022-01-01 17:00:00</td>\n",
       "      <td>150</td>\n",
       "    </tr>\n",
       "  </tbody>\n",
       "</table>\n",
       "</div>"
      ],
      "text/plain": [
       "   index  fips_code  affected               start                 end  \\\n",
       "0   3237      12073       1.0 2022-01-01 01:30:00 2022-01-01 01:30:00   \n",
       "1   6146      12073       1.0 2022-01-01 03:00:00 2022-01-01 03:00:00   \n",
       "2  11373      12073       1.0 2022-01-01 05:45:00 2022-01-01 07:45:00   \n",
       "3  25868      12073       1.0 2022-01-01 12:30:00 2022-01-01 14:15:00   \n",
       "4  31797      12073       7.0 2022-01-01 14:45:00 2022-01-01 17:00:00   \n",
       "\n",
       "   duration  \n",
       "0        15  \n",
       "1        15  \n",
       "2       135  \n",
       "3       120  \n",
       "4       150  "
      ]
     },
     "execution_count": 50,
     "metadata": {},
     "output_type": "execute_result"
    }
   ],
   "source": [
    "outage_county.head()"
   ]
  },
  {
   "cell_type": "markdown",
   "id": "1bcf4cd6",
   "metadata": {},
   "source": [
    "We should be good to go!"
   ]
  },
  {
   "cell_type": "code",
   "execution_count": 24,
   "id": "1d83e157",
   "metadata": {},
   "outputs": [],
   "source": [
    "out_by_fips = df.groupby(\"fips_code\")\n",
    "fifteen = datetime.timedelta(minutes=15)\n",
    "\n",
    "li = []\n",
    "for fips, df_county in out_by_fips:\n",
    "    timediff = df_county.run_start_time.shift(-1) \n",
    "    continues = (timediff - df_county.run_start_time) == fifteen\n",
    "    isEnd = ~continues \n",
    "    isStart = isEnd.shift(1, fill_value=True)\n",
    "    outage_county = df_county[isStart].rename({\"sum\":\"affected\", \"run_start_time\":\"start\"},axis=1).reset_index()\n",
    "    outage_county[\"end\"] = df_county[isEnd].reset_index().run_start_time\n",
    "    outage_county[\"duration\"] = (outage_county[\"end\"] - outage_county[\"start\"]).apply(lambda x: x.total_seconds()/60).apply(int)\n",
    "    li.append(outage_county)\n",
    "\n",
    "outages = pd.concat(li).dropna()"
   ]
  },
  {
   "cell_type": "code",
   "execution_count": null,
   "id": "db950a25",
   "metadata": {},
   "outputs": [],
   "source": [
    "# older code, not parallelized, not efficient; do not use.\n",
    "out_by_fips = df.groupby(\"fips_code\")\n",
    "outages = pd.DataFrame({\"fips_code\":[], 'affected':[], 'start':[], 'end':[], 'duration':[]})\n",
    "for fips, df_county in out_by_fips:\n",
    "    start = 0\n",
    "    for i in range(len(df_county)):\n",
    "        if i == len(df_county)-1 or (df_county.iloc[i+1].run_start_time \n",
    "                                - df_county.iloc[i].run_start_time) > datetime.timedelta(minutes=15):\n",
    "            outages.loc[len(outages.index)] = [fips, df_county.iloc[range(start,i+1)][\"sum\"].max(), \n",
    "                                                     df_county.iloc[start].run_start_time, \n",
    "                                                     df_county.iloc[i].run_start_time,(i-start+1)*15]\n",
    "            if i < len(df_county) - 1: start = i+1"
   ]
  },
  {
   "cell_type": "code",
   "execution_count": 25,
   "id": "13fa3e7f",
   "metadata": {},
   "outputs": [],
   "source": [
    "outages.drop([\"index\"],axis=1).dropna().to_csv(\"outages_2014.csv\",index=False)"
   ]
  },
  {
   "cell_type": "markdown",
   "id": "f0338469",
   "metadata": {},
   "source": [
    "## Removing apparent noise?"
   ]
  },
  {
   "cell_type": "code",
   "execution_count": 53,
   "id": "64b31da3",
   "metadata": {},
   "outputs": [],
   "source": [
    "outages = pd.read_csv(\"outages_2022.csv\",parse_dates=[\"start\",\"end\"])"
   ]
  },
  {
   "cell_type": "code",
   "execution_count": 54,
   "id": "47e85c6c",
   "metadata": {},
   "outputs": [
    {
     "name": "stdout",
     "output_type": "stream",
     "text": [
      "<class 'pandas.core.frame.DataFrame'>\n",
      "RangeIndex: 1364783 entries, 0 to 1364782\n",
      "Data columns (total 5 columns):\n",
      " #   Column     Non-Null Count    Dtype         \n",
      "---  ------     --------------    -----         \n",
      " 0   fips_code  1364783 non-null  int64         \n",
      " 1   affected   1364783 non-null  float64       \n",
      " 2   start      1364783 non-null  datetime64[ns]\n",
      " 3   end        1364783 non-null  datetime64[ns]\n",
      " 4   duration   1364783 non-null  int64         \n",
      "dtypes: datetime64[ns](2), float64(1), int64(2)\n",
      "memory usage: 52.1 MB\n"
     ]
    }
   ],
   "source": [
    "outages.info()"
   ]
  },
  {
   "cell_type": "code",
   "execution_count": 55,
   "id": "02367316",
   "metadata": {},
   "outputs": [],
   "source": [
    "soutage = outages.sample(12000)"
   ]
  },
  {
   "cell_type": "code",
   "execution_count": 56,
   "id": "d3f89b93",
   "metadata": {},
   "outputs": [
    {
     "data": {
      "text/html": [
       "<div>\n",
       "<style scoped>\n",
       "    .dataframe tbody tr th:only-of-type {\n",
       "        vertical-align: middle;\n",
       "    }\n",
       "\n",
       "    .dataframe tbody tr th {\n",
       "        vertical-align: top;\n",
       "    }\n",
       "\n",
       "    .dataframe thead th {\n",
       "        text-align: right;\n",
       "    }\n",
       "</style>\n",
       "<table border=\"1\" class=\"dataframe\">\n",
       "  <thead>\n",
       "    <tr style=\"text-align: right;\">\n",
       "      <th></th>\n",
       "      <th>fips_code</th>\n",
       "      <th>affected</th>\n",
       "      <th>start</th>\n",
       "      <th>end</th>\n",
       "      <th>duration</th>\n",
       "    </tr>\n",
       "  </thead>\n",
       "  <tbody>\n",
       "    <tr>\n",
       "      <th>1309922</th>\n",
       "      <td>54033</td>\n",
       "      <td>4.0</td>\n",
       "      <td>2022-01-08 10:00:00</td>\n",
       "      <td>2022-01-08 12:45:00</td>\n",
       "      <td>165</td>\n",
       "    </tr>\n",
       "    <tr>\n",
       "      <th>328902</th>\n",
       "      <td>17195</td>\n",
       "      <td>11.0</td>\n",
       "      <td>2022-08-22 13:30:00</td>\n",
       "      <td>2022-08-22 14:45:00</td>\n",
       "      <td>75</td>\n",
       "    </tr>\n",
       "    <tr>\n",
       "      <th>1252824</th>\n",
       "      <td>51095</td>\n",
       "      <td>1.0</td>\n",
       "      <td>2022-04-21 16:00:00</td>\n",
       "      <td>2022-04-22 15:45:00</td>\n",
       "      <td>1425</td>\n",
       "    </tr>\n",
       "    <tr>\n",
       "      <th>404174</th>\n",
       "      <td>20009</td>\n",
       "      <td>1.0</td>\n",
       "      <td>2022-07-13 23:45:00</td>\n",
       "      <td>2022-07-14 04:45:00</td>\n",
       "      <td>300</td>\n",
       "    </tr>\n",
       "    <tr>\n",
       "      <th>1312374</th>\n",
       "      <td>54041</td>\n",
       "      <td>173.0</td>\n",
       "      <td>2022-09-01 01:30:00</td>\n",
       "      <td>2022-09-01 06:45:00</td>\n",
       "      <td>315</td>\n",
       "    </tr>\n",
       "  </tbody>\n",
       "</table>\n",
       "</div>"
      ],
      "text/plain": [
       "         fips_code  affected               start                 end  duration\n",
       "1309922      54033       4.0 2022-01-08 10:00:00 2022-01-08 12:45:00       165\n",
       "328902       17195      11.0 2022-08-22 13:30:00 2022-08-22 14:45:00        75\n",
       "1252824      51095       1.0 2022-04-21 16:00:00 2022-04-22 15:45:00      1425\n",
       "404174       20009       1.0 2022-07-13 23:45:00 2022-07-14 04:45:00       300\n",
       "1312374      54041     173.0 2022-09-01 01:30:00 2022-09-01 06:45:00       315"
      ]
     },
     "execution_count": 56,
     "metadata": {},
     "output_type": "execute_result"
    }
   ],
   "source": [
    "soutage.head()"
   ]
  },
  {
   "cell_type": "code",
   "execution_count": 57,
   "id": "63bbc01e",
   "metadata": {},
   "outputs": [
    {
     "data": {
      "text/plain": [
       "<Axes: >"
      ]
     },
     "execution_count": 57,
     "metadata": {},
     "output_type": "execute_result"
    },
    {
     "data": {
      "image/png": "[encoded data removed]",
      "text/plain": [
       "<Figure size 432x288 with 1 Axes>"
      ]
     },
     "metadata": {
      "needs_background": "light"
     },
     "output_type": "display_data"
    }
   ],
   "source": [
    "sns.violinplot(soutage.duration.values)"
   ]
  },
  {
   "cell_type": "code",
   "execution_count": 58,
   "id": "1bcf994d",
   "metadata": {},
   "outputs": [
    {
     "data": {
      "text/plain": [
       "<matplotlib.collections.PathCollection at 0x7f1407a73f40>"
      ]
     },
     "execution_count": 58,
     "metadata": {},
     "output_type": "execute_result"
    },
    {
     "data": {
      "image/png": "[encoded data removed]",
      "text/plain": [
       "<Figure size 432x288 with 1 Axes>"
      ]
     },
     "metadata": {
      "needs_background": "light"
     },
     "output_type": "display_data"
    }
   ],
   "source": [
    "plt.scatter(soutage.start, soutage.duration)\n",
    "# Yeah something happened in October 2015 ... which hurricane was that?"
   ]
  },
  {
   "cell_type": "markdown",
   "id": "817d32f7",
   "metadata": {},
   "source": [
    "Question: should we delete events where the # affected customers is very small (and/or the duration is very short)?"
   ]
  },
  {
   "cell_type": "code",
   "execution_count": 59,
   "id": "93d9fa6b",
   "metadata": {},
   "outputs": [
    {
     "data": {
      "text/plain": [
       "<Axes: >"
      ]
     },
     "execution_count": 59,
     "metadata": {},
     "output_type": "execute_result"
    },
    {
     "data": {
      "image/png": "[encoded data removed]",
      "text/plain": [
       "<Figure size 432x288 with 1 Axes>"
      ]
     },
     "metadata": {
      "needs_background": "light"
     },
     "output_type": "display_data"
    }
   ],
   "source": [
    "sns.violinplot(soutage.affected.values)"
   ]
  },
  {
   "cell_type": "code",
   "execution_count": 60,
   "id": "a4819222",
   "metadata": {},
   "outputs": [],
   "source": [
    "soutage.drop(soutage.loc[(soutage.affected==1) | (soutage.duration<=30)].index,inplace=True)"
   ]
  },
  {
   "cell_type": "code",
   "execution_count": 61,
   "id": "9dc71731",
   "metadata": {},
   "outputs": [
    {
     "data": {
      "text/html": [
       "<div>\n",
       "<style scoped>\n",
       "    .dataframe tbody tr th:only-of-type {\n",
       "        vertical-align: middle;\n",
       "    }\n",
       "\n",
       "    .dataframe tbody tr th {\n",
       "        vertical-align: top;\n",
       "    }\n",
       "\n",
       "    .dataframe thead th {\n",
       "        text-align: right;\n",
       "    }\n",
       "</style>\n",
       "<table border=\"1\" class=\"dataframe\">\n",
       "  <thead>\n",
       "    <tr style=\"text-align: right;\">\n",
       "      <th></th>\n",
       "      <th>fips_code</th>\n",
       "      <th>affected</th>\n",
       "      <th>start</th>\n",
       "      <th>end</th>\n",
       "      <th>duration</th>\n",
       "    </tr>\n",
       "  </thead>\n",
       "  <tbody>\n",
       "    <tr>\n",
       "      <th>1309922</th>\n",
       "      <td>54033</td>\n",
       "      <td>4.0</td>\n",
       "      <td>2022-01-08 10:00:00</td>\n",
       "      <td>2022-01-08 12:45:00</td>\n",
       "      <td>165</td>\n",
       "    </tr>\n",
       "    <tr>\n",
       "      <th>328902</th>\n",
       "      <td>17195</td>\n",
       "      <td>11.0</td>\n",
       "      <td>2022-08-22 13:30:00</td>\n",
       "      <td>2022-08-22 14:45:00</td>\n",
       "      <td>75</td>\n",
       "    </tr>\n",
       "    <tr>\n",
       "      <th>1312374</th>\n",
       "      <td>54041</td>\n",
       "      <td>173.0</td>\n",
       "      <td>2022-09-01 01:30:00</td>\n",
       "      <td>2022-09-01 06:45:00</td>\n",
       "      <td>315</td>\n",
       "    </tr>\n",
       "    <tr>\n",
       "      <th>474773</th>\n",
       "      <td>21207</td>\n",
       "      <td>37.0</td>\n",
       "      <td>2022-02-22 04:15:00</td>\n",
       "      <td>2022-02-22 06:45:00</td>\n",
       "      <td>150</td>\n",
       "    </tr>\n",
       "    <tr>\n",
       "      <th>568695</th>\n",
       "      <td>26029</td>\n",
       "      <td>2.0</td>\n",
       "      <td>2022-04-07 17:30:00</td>\n",
       "      <td>2022-04-07 19:30:00</td>\n",
       "      <td>120</td>\n",
       "    </tr>\n",
       "    <tr>\n",
       "      <th>...</th>\n",
       "      <td>...</td>\n",
       "      <td>...</td>\n",
       "      <td>...</td>\n",
       "      <td>...</td>\n",
       "      <td>...</td>\n",
       "    </tr>\n",
       "    <tr>\n",
       "      <th>280873</th>\n",
       "      <td>16035</td>\n",
       "      <td>4.0</td>\n",
       "      <td>2022-09-01 16:30:00</td>\n",
       "      <td>2022-09-01 20:30:00</td>\n",
       "      <td>240</td>\n",
       "    </tr>\n",
       "    <tr>\n",
       "      <th>751212</th>\n",
       "      <td>35001</td>\n",
       "      <td>24.0</td>\n",
       "      <td>2022-05-26 05:30:00</td>\n",
       "      <td>2022-05-26 09:00:00</td>\n",
       "      <td>210</td>\n",
       "    </tr>\n",
       "    <tr>\n",
       "      <th>881817</th>\n",
       "      <td>39069</td>\n",
       "      <td>4.0</td>\n",
       "      <td>2022-05-31 16:30:00</td>\n",
       "      <td>2022-05-31 18:00:00</td>\n",
       "      <td>90</td>\n",
       "    </tr>\n",
       "    <tr>\n",
       "      <th>847496</th>\n",
       "      <td>37167</td>\n",
       "      <td>2.0</td>\n",
       "      <td>2022-03-19 17:45:00</td>\n",
       "      <td>2022-03-19 18:30:00</td>\n",
       "      <td>45</td>\n",
       "    </tr>\n",
       "    <tr>\n",
       "      <th>884316</th>\n",
       "      <td>39077</td>\n",
       "      <td>4.0</td>\n",
       "      <td>2022-06-22 17:00:00</td>\n",
       "      <td>2022-06-22 19:30:00</td>\n",
       "      <td>150</td>\n",
       "    </tr>\n",
       "  </tbody>\n",
       "</table>\n",
       "<p>5041 rows × 5 columns</p>\n",
       "</div>"
      ],
      "text/plain": [
       "         fips_code  affected               start                 end  duration\n",
       "1309922      54033       4.0 2022-01-08 10:00:00 2022-01-08 12:45:00       165\n",
       "328902       17195      11.0 2022-08-22 13:30:00 2022-08-22 14:45:00        75\n",
       "1312374      54041     173.0 2022-09-01 01:30:00 2022-09-01 06:45:00       315\n",
       "474773       21207      37.0 2022-02-22 04:15:00 2022-02-22 06:45:00       150\n",
       "568695       26029       2.0 2022-04-07 17:30:00 2022-04-07 19:30:00       120\n",
       "...            ...       ...                 ...                 ...       ...\n",
       "280873       16035       4.0 2022-09-01 16:30:00 2022-09-01 20:30:00       240\n",
       "751212       35001      24.0 2022-05-26 05:30:00 2022-05-26 09:00:00       210\n",
       "881817       39069       4.0 2022-05-31 16:30:00 2022-05-31 18:00:00        90\n",
       "847496       37167       2.0 2022-03-19 17:45:00 2022-03-19 18:30:00        45\n",
       "884316       39077       4.0 2022-06-22 17:00:00 2022-06-22 19:30:00       150\n",
       "\n",
       "[5041 rows x 5 columns]"
      ]
     },
     "execution_count": 61,
     "metadata": {},
     "output_type": "execute_result"
    }
   ],
   "source": [
    "soutage"
   ]
  },
  {
   "cell_type": "code",
   "execution_count": 62,
   "id": "d40f784d",
   "metadata": {},
   "outputs": [
    {
     "data": {
      "text/plain": [
       "<Axes: >"
      ]
     },
     "execution_count": 62,
     "metadata": {},
     "output_type": "execute_result"
    },
    {
     "data": {
      "image/png": "[encoded data removed]",
      "text/plain": [
       "<Figure size 432x288 with 1 Axes>"
      ]
     },
     "metadata": {
      "needs_background": "light"
     },
     "output_type": "display_data"
    }
   ],
   "source": [
    "sns.violinplot(soutage.duration.values)"
   ]
  },
  {
   "cell_type": "code",
   "execution_count": 63,
   "id": "eb19d924",
   "metadata": {},
   "outputs": [
    {
     "data": {
      "text/plain": [
       "<Axes: >"
      ]
     },
     "execution_count": 63,
     "metadata": {},
     "output_type": "execute_result"
    },
    {
     "data": {
      "image/png": "[encoded data removed]",
      "text/plain": [
       "<Figure size 432x288 with 1 Axes>"
      ]
     },
     "metadata": {
      "needs_background": "light"
     },
     "output_type": "display_data"
    }
   ],
   "source": [
    "sns.violinplot(soutage.affected.values)"
   ]
  },
  {
   "cell_type": "code",
   "execution_count": null,
   "id": "1ef90097",
   "metadata": {},
   "outputs": [],
   "source": []
  }
 ],
 "metadata": {
  "kernelspec": {
   "display_name": "Python 3 (ipykernel)",
   "language": "python",
   "name": "python3"
  },
  "language_info": {
   "codemirror_mode": {
    "name": "ipython",
    "version": 3
   },
   "file_extension": ".py",
   "mimetype": "text/x-python",
   "name": "python",
   "nbconvert_exporter": "python",
   "pygments_lexer": "ipython3",
   "version": "3.10.12"
  }
 },
 "nbformat": 4,
 "nbformat_minor": 5
}
